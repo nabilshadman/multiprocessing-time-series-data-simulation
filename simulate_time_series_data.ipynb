{
 "cells": [
  {
   "cell_type": "code",
   "execution_count": 22,
   "metadata": {
    "executionInfo": {
     "elapsed": 376,
     "status": "ok",
     "timestamp": 1624598794008,
     "user": {
      "displayName": "Nabil Shadman",
      "photoUrl": "https://lh3.googleusercontent.com/a-/AOh14GgjBsnEG-PznUvGpfTcNLgJBigjRZZcEChU1Oa3Eqg=s64",
      "userId": "14644475816376844585"
     },
     "user_tz": -360
    },
    "id": "kyAHSTJwL3wp"
   },
   "outputs": [],
   "source": [
    "# If restarting the script, ensure Runtime is set to \"TPU\".\n",
    "import sys\n",
    "from os import path\n",
    "from multiprocessing import Pool\n",
    "import numpy as np\n",
    "import pandas as pd\n",
    "from scipy.stats import gaussian_kde\n",
    "from google.colab import files\n",
    "import time as time"
   ]
  },
  {
   "cell_type": "code",
   "execution_count": 23,
   "metadata": {
    "colab": {
     "base_uri": "https://localhost:8080/",
     "height": 211,
     "resources": {
      "http://localhost:8080/nbextensions/google.colab/files.js": {
       "data": "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",
       "headers": [
        [
         "content-type",
         "application/javascript"
        ]
       ],
       "ok": true,
       "status": 200,
       "status_text": ""
      }
     }
    },
    "executionInfo": {
     "elapsed": 12273,
     "status": "ok",
     "timestamp": 1624598808448,
     "user": {
      "displayName": "Nabil Shadman",
      "photoUrl": "https://lh3.googleusercontent.com/a-/AOh14GgjBsnEG-PznUvGpfTcNLgJBigjRZZcEChU1Oa3Eqg=s64",
      "userId": "14644475816376844585"
     },
     "user_tz": -360
    },
    "id": "XUPoP4kGMAZp",
    "outputId": "f776c0a3-e8f5-495d-a3f2-fd9866553fb3"
   },
   "outputs": [
    {
     "data": {
      "text/html": [
       "\n",
       "     <input type=\"file\" id=\"files-cba48046-7a99-469e-91dd-cf1b7d68392d\" name=\"files[]\" multiple disabled\n",
       "        style=\"border:none\" />\n",
       "     <output id=\"result-cba48046-7a99-469e-91dd-cf1b7d68392d\">\n",
       "      Upload widget is only available when the cell has been executed in the\n",
       "      current browser session. Please rerun this cell to enable.\n",
       "      </output>\n",
       "      <script src=\"/nbextensions/google.colab/files.js\"></script> "
      ],
      "text/plain": [
       "<IPython.core.display.HTML object>"
      ]
     },
     "metadata": {
      "tags": []
     },
     "output_type": "display_data"
    },
    {
     "name": "stdout",
     "output_type": "stream",
     "text": [
      "Saving original.csv to original (1).csv\n",
      "Saving paramX1wrtTime.csv to paramX1wrtTime (1).csv\n",
      "Saving paramX2wrtTime.csv to paramX2wrtTime (1).csv\n"
     ]
    },
    {
     "data": {
      "text/plain": [
       "{'original.csv': b'paramX1,paramX2\\r\\n199.84,20.4856\\r\\n199.14,20.48414545\\r\\n199.96,20.48269091\\r\\n200.14,20.48123636\\r\\n199.94,20.4808\\r\\n199.66,20.47973019\\r\\n200.1,20.47820189\\r\\n199.96,20.47667358\\r\\n200.59,20.4754\\r\\n199.73,20.47474848\\r\\n200.61,20.47083939\\r\\n200.98,20.4669303\\r\\n200.27,20.46302121\\r\\n200.01,20.4635\\r\\n200.63,20.46801132\\r\\n200.61,20.47283208\\r\\n199.18,20.47765283\\r\\n199,20.4842\\r\\n200.06,20.49264\\r\\n199.88,20.49796\\r\\n199.31,20.50328\\r\\n199.85,20.5086\\r\\n200.01,20.51497736\\r\\n',\n",
       " 'paramX1wrtTime.csv': b'TimeStamp,paramX1\\r\\n06/08/2015 12:33:00,199.84\\r\\n06/08/2015 12:33:30,199.14\\r\\n06/08/2015 12:34:00,199.96\\r\\n06/08/2015 12:34:30,200.14\\r\\n06/08/2015 12:35:00,199.94\\r\\n06/08/2015 12:35:30,199.66\\r\\n06/08/2015 12:36:00,200.1\\r\\n06/08/2015 12:36:30,199.96\\r\\n06/08/2015 12:37:00,200.59\\r\\n06/08/2015 12:37:30,199.73\\r\\n06/08/2015 12:38:00,200.61\\r\\n06/08/2015 12:38:30,200.98\\r\\n06/08/2015 12:39:00,200.27\\r\\n06/08/2015 12:39:30,200.01\\r\\n06/08/2015 12:40:00,200.63\\r\\n06/08/2015 12:40:30,200.61\\r\\n06/08/2015 12:41:00,199.18\\r\\n06/08/2015 12:41:30,199\\r\\n06/08/2015 12:42:00,200.06\\r\\n06/08/2015 12:42:30,199.88\\r\\n06/08/2015 12:43:00,199.31\\r\\n06/08/2015 12:43:30,199.85\\r\\n06/08/2015 12:44:00,200.01\\r\\n',\n",
       " 'paramX2wrtTime.csv': b'TimeStamp,paramX2\\r\\n06/08/2015 12:33:00,20.4856\\r\\n06/08/2015 12:33:30,20.48414545\\r\\n06/08/2015 12:34:00,20.48269091\\r\\n06/08/2015 12:34:30,20.48123636\\r\\n06/08/2015 12:35:00,20.4808\\r\\n06/08/2015 12:35:30,20.47973019\\r\\n06/08/2015 12:36:00,20.47820189\\r\\n06/08/2015 12:36:30,20.47667358\\r\\n06/08/2015 12:37:00,20.4754\\r\\n06/08/2015 12:37:30,20.47474848\\r\\n06/08/2015 12:38:00,20.47083939\\r\\n06/08/2015 12:38:30,20.4669303\\r\\n06/08/2015 12:39:00,20.46302121\\r\\n06/08/2015 12:39:30,20.4635\\r\\n06/08/2015 12:40:00,20.46801132\\r\\n06/08/2015 12:40:30,20.47283208\\r\\n06/08/2015 12:41:00,20.47765283\\r\\n06/08/2015 12:41:30,20.4842\\r\\n06/08/2015 12:42:00,20.49264\\r\\n06/08/2015 12:42:30,20.49796\\r\\n06/08/2015 12:43:00,20.50328\\r\\n06/08/2015 12:43:30,20.5086\\r\\n06/08/2015 12:44:00,20.51497736\\r\\n'}"
      ]
     },
     "execution_count": 23,
     "metadata": {
      "tags": []
     },
     "output_type": "execute_result"
    }
   ],
   "source": [
    "files.upload()"
   ]
  },
  {
   "cell_type": "code",
   "execution_count": 24,
   "metadata": {
    "executionInfo": {
     "elapsed": 366,
     "status": "ok",
     "timestamp": 1624598825603,
     "user": {
      "displayName": "Nabil Shadman",
      "photoUrl": "https://lh3.googleusercontent.com/a-/AOh14GgjBsnEG-PznUvGpfTcNLgJBigjRZZcEChU1Oa3Eqg=s64",
      "userId": "14644475816376844585"
     },
     "user_tz": -360
    },
    "id": "eTgZpDZXL3wy"
   },
   "outputs": [],
   "source": [
    "# Task 1 - Define a function to compute the rate of change of a time series data\n",
    "def find_rate(data=None):\n",
    "    \n",
    "    if data is None:\n",
    "      print(\"Error. Please pass time-dependent data.\")\n",
    "      return None\n",
    "    try:\n",
    "      index = data.iloc[:,0].values.astype(np.int64)//10**9\n",
    "      data['index_col'] = index\n",
    "      values = pd.Series(data.iloc[:,1].values, index=index)\n",
    "      rate = values.diff()/(data['index_col'].diff().values)\n",
    "      data['rate'] = rate.values\n",
    "      data.fillna(0, inplace=True)\n",
    "      data['rate'] = data['rate'].round(5)\n",
    "    except AttributeError as error:\n",
    "      print(\"Attribute error:\" + error)\n",
    "    except:\n",
    "      print(\"Unexpected error:\" + sys.exc_info()[0])\n",
    "      raise\n"
   ]
  },
  {
   "cell_type": "code",
   "execution_count": 25,
   "metadata": {
    "colab": {
     "base_uri": "https://localhost:8080/"
    },
    "executionInfo": {
     "elapsed": 5,
     "status": "ok",
     "timestamp": 1624598828647,
     "user": {
      "displayName": "Nabil Shadman",
      "photoUrl": "https://lh3.googleusercontent.com/a-/AOh14GgjBsnEG-PznUvGpfTcNLgJBigjRZZcEChU1Oa3Eqg=s64",
      "userId": "14644475816376844585"
     },
     "user_tz": -360
    },
    "id": "VtoSUVCeL3w2",
    "outputId": "fbbdc8bc-49de-4e96-fe95-13e1a298b1ac"
   },
   "outputs": [
    {
     "name": "stdout",
     "output_type": "stream",
     "text": [
      "paramX1\n",
      "TimeStamp     object\n",
      "paramX1      float64\n",
      "dtype: object\n",
      "TimeStamp    datetime64[ns]\n",
      "paramX1             float64\n",
      "dtype: object\n",
      "            TimeStamp  paramX1   index_col     rate\n",
      "0 2015-06-08 12:33:00   199.84  1433766780  0.00000\n",
      "1 2015-06-08 12:33:30   199.14  1433766810 -0.02333\n",
      "2 2015-06-08 12:34:00   199.96  1433766840  0.02733\n",
      "3 2015-06-08 12:34:30   200.14  1433766870  0.00600\n",
      "4 2015-06-08 12:35:00   199.94  1433766900 -0.00667\n",
      "paramX2\n",
      "TimeStamp     object\n",
      "paramX2      float64\n",
      "dtype: object\n",
      "TimeStamp    datetime64[ns]\n",
      "paramX2             float64\n",
      "dtype: object\n",
      "            TimeStamp    paramX2   index_col     rate\n",
      "0 2015-06-08 12:33:00  20.485600  1433766780  0.00000\n",
      "1 2015-06-08 12:33:30  20.484145  1433766810 -0.00005\n",
      "2 2015-06-08 12:34:00  20.482691  1433766840 -0.00005\n",
      "3 2015-06-08 12:34:30  20.481236  1433766870 -0.00005\n",
      "4 2015-06-08 12:35:00  20.480800  1433766900 -0.00001\n"
     ]
    }
   ],
   "source": [
    "# Task 2 - Calculate rate of time-dependent parameters\n",
    "# apply the above function on time series data files\n",
    "FILENAMES = [\"paramX1wrtTime.csv\",\n",
    "             \"paramX2wrtTime.csv\", # additional data file (add your own)\n",
    "             ]\n",
    "\n",
    "for file in FILENAMES:\n",
    "    # split the file path to get the parameter name\n",
    "    name = file.split('wrt')\n",
    "\n",
    "    # print parameter name\n",
    "    print(name[0])\n",
    "\n",
    "    # get full file path\n",
    "    filepath = path.join(\"./\", file)\n",
    "\n",
    "    # open the file\n",
    "    data_file = pd.read_csv(filepath, header=0, index_col=False)\n",
    "\n",
    "    print(data_file.dtypes)\n",
    "    data_file.iloc[:,0] = pd.to_datetime(data_file.iloc[:,0])\n",
    "    print(data_file.dtypes)\n",
    "    find_rate(data_file)\n",
    "    print(data_file.head(5))\n",
    "    data_file.drop(data_file.columns[[0,2]], axis=1, inplace=True)\n",
    "    out_path = path.join(path.join(\"./\"), name[0] + \"_rate.csv\")\n",
    "    data_file.to_csv(out_path)\n"
   ]
  },
  {
   "cell_type": "code",
   "execution_count": 26,
   "metadata": {
    "colab": {
     "base_uri": "https://localhost:8080/"
    },
    "executionInfo": {
     "elapsed": 371,
     "status": "ok",
     "timestamp": 1624598833578,
     "user": {
      "displayName": "Nabil Shadman",
      "photoUrl": "https://lh3.googleusercontent.com/a-/AOh14GgjBsnEG-PznUvGpfTcNLgJBigjRZZcEChU1Oa3Eqg=s64",
      "userId": "14644475816376844585"
     },
     "user_tz": -360
    },
    "id": "5UYR0ZADMXGS",
    "outputId": "576b382c-0ed0-4db4-ea51-7e8d5dcaafc8"
   },
   "outputs": [
    {
     "name": "stdout",
     "output_type": "stream",
     "text": [
      "'original (1).csv'\t   paramX1wrtTime.csv\t     sample_data\n",
      " original.csv\t\t   paramX2_rate.csv\t     simulated_rate.csv\n",
      " paramX1_rate.csv\t  'paramX2wrtTime (1).csv'   simulation_final_all.csv\n",
      "'paramX1wrtTime (1).csv'   paramX2wrtTime.csv\n"
     ]
    }
   ],
   "source": [
    "!ls"
   ]
  },
  {
   "cell_type": "code",
   "execution_count": 27,
   "metadata": {
    "colab": {
     "base_uri": "https://localhost:8080/"
    },
    "executionInfo": {
     "elapsed": 360,
     "status": "ok",
     "timestamp": 1624598841526,
     "user": {
      "displayName": "Nabil Shadman",
      "photoUrl": "https://lh3.googleusercontent.com/a-/AOh14GgjBsnEG-PznUvGpfTcNLgJBigjRZZcEChU1Oa3Eqg=s64",
      "userId": "14644475816376844585"
     },
     "user_tz": -360
    },
    "id": "NaREckj9L3w7",
    "outputId": "632faf4d-fa08-4a8a-fcb6-b018e2bc66de"
   },
   "outputs": [
    {
     "name": "stdout",
     "output_type": "stream",
     "text": [
      "paramX1\n",
      "paramX2\n"
     ]
    }
   ],
   "source": [
    "# Task 3 - Generate rate samples for each column\n",
    "# simulate new values of rates using Pool's starmap function\n",
    "filenames = [\"paramX1_rate.csv\",\n",
    "             \"paramX2_rate.csv\", # add more files here\n",
    "            ] \n",
    "\n",
    "# initialize variables\n",
    "random_rate = []\n",
    "samples = 10000 # number of rate samples required\n",
    "rate_df = pd.DataFrame()\n",
    "pool = Pool(processes=1) # define number of parallel processes required\n",
    "\n",
    "# Generate time series\n",
    "for file in filenames:\n",
    "\n",
    "    # split filename to get parameter name\n",
    "    name = file.split('_')\n",
    "\n",
    "    # print parameter name\n",
    "    print(name[0])\n",
    "\n",
    "    # get full file path\n",
    "    filepath = path.join(\"./\", file)\n",
    "\n",
    "    # read file\n",
    "    data_file = pd.read_csv(filepath, header=0, index_col=False)\n",
    "\n",
    "    # convert first column to 'datetimens' datatype\n",
    "    data_file.iloc[:,0] = pd.to_datetime(data_file.iloc[:,0])\n",
    "\n",
    "    # store 'rate' column as 'data'\n",
    "    data = data_file['rate']\n",
    "\n",
    "    # get random samples\n",
    "    values = np.random.rand(samples)\n",
    "\n",
    "    x_grid = pool.starmap(np.linspace, ((min(data), max(data), samples),))\n",
    "    kde = pool.starmap(gaussian_kde, ((data, \"scott\"),))\n",
    "    kdepdf = kde[0].evaluate(x_grid[0])\n",
    "    cdf = np.cumsum(kdepdf)\n",
    "    cdf = cdf/cdf[-1]\n",
    "    value_bins = pool.starmap(np.searchsorted, ((cdf, values),))\n",
    "    random_rate = x_grid[0][tuple(value_bins)]\n",
    "    temp_df = pd.DataFrame(np.asarray(random_rate).T.tolist(),\n",
    "                           columns=[name[0]])\n",
    "    rate_df = rate_df.join(temp_df, how='outer')\n",
    "\n",
    "pool.terminate() # stop all parallel processes\n",
    "\n",
    "# write 'rate_df' to file\n",
    "rate_df.to_csv(\"simulated_rate.csv\", index=False)\n"
   ]
  },
  {
   "cell_type": "code",
   "execution_count": 28,
   "metadata": {
    "executionInfo": {
     "elapsed": 395,
     "status": "ok",
     "timestamp": 1624598845356,
     "user": {
      "displayName": "Nabil Shadman",
      "photoUrl": "https://lh3.googleusercontent.com/a-/AOh14GgjBsnEG-PznUvGpfTcNLgJBigjRZZcEChU1Oa3Eqg=s64",
      "userId": "14644475816376844585"
     },
     "user_tz": -360
    },
    "id": "4UE2eEwcL3w_"
   },
   "outputs": [],
   "source": [
    "# Tasks 4-5 - Define a function to simulate parameter values\n",
    "def simulate_corr(temp):\n",
    "    \"\"\"\n",
    "    Simulate original dataset, using rates and correlation. Pick a random\n",
    "    column (X), simulate other column values based on rate of change of X and\n",
    "    correlation between X and other columns. Repeat for samples count.\n",
    "    \"\"\"\n",
    "    global sdev, rate, orig_df, freq, samples\n",
    "    \n",
    "    data = orig_df\n",
    "    colRange = len(data.columns) # number of columns\n",
    "    start_vals = data.mean() # get mean\n",
    "    data_corr = data.corr() # get correlation between all columns\n",
    "    colms = data.columns.values.tolist() # list of columns\n",
    "    temp_df = pd.DataFrame(columns=colms) # empty df intialized with columns\n",
    "\n",
    "    for i in range(samples):\n",
    "\n",
    "      if (i+1) % 500 == 0:\n",
    "        print(\"Simulated\", (i+1), \"of\", samples, \" samples in chunk:\", temp)\n",
    "      index = int(np.random.randint(colRange, size=1))\n",
    "      randomCol = colms[index]\n",
    "      end_total = list()\n",
    "      newrate = 0\n",
    "\n",
    "      for col in colms:\n",
    "        start = start_vals[col]\n",
    "        corr = data_corr[randomCol][col]\n",
    "        delta = rate[col].sample(1).values\n",
    "        nextValue = start + (sdev[col]/sdev[randomCol])*corr*delta*freq\n",
    "        end_total.append(nextValue)\n",
    "        start_vals[col] = nextValue\n",
    "\n",
    "      temp_df = temp_df.append(pd.DataFrame(np.asarray(end_total).T, columns=colms),\n",
    "                               ignore_index=True)\n",
    "    temp_df = temp_df.round(3)\n",
    "    return temp_df\n"
   ]
  },
  {
   "cell_type": "code",
   "execution_count": 29,
   "metadata": {
    "colab": {
     "base_uri": "https://localhost:8080/"
    },
    "executionInfo": {
     "elapsed": 391,
     "status": "ok",
     "timestamp": 1624598848713,
     "user": {
      "displayName": "Nabil Shadman",
      "photoUrl": "https://lh3.googleusercontent.com/a-/AOh14GgjBsnEG-PznUvGpfTcNLgJBigjRZZcEChU1Oa3Eqg=s64",
      "userId": "14644475816376844585"
     },
     "user_tz": -360
    },
    "id": "usWqUZ-XL3xC",
    "outputId": "e3fa0e0c-fc99-4f5e-fa2e-fad500416a51"
   },
   "outputs": [
    {
     "name": "stdout",
     "output_type": "stream",
     "text": [
      "Read rate file\n",
      "\n",
      "Read original df\n",
      "\n"
     ]
    }
   ],
   "source": [
    "# Task 6 - Initialize variables to start the parallel simulation\n",
    "rate = pd.read_csv(\"./simulated_rate.csv\", header=0, index_col=False)\n",
    "print(\"Read rate file\\n\")\n",
    "concat_df, backup_df = pd.DataFrame(), pd.DataFrame()\n",
    "orig_df = pd.read_csv(\"./original.csv\", index_col=False)\n",
    "print(\"Read original df\\n\")\n",
    "\n",
    "sdev = orig_df.std()\n",
    "runs = list(range(1,11))\n",
    "samples = 1000\n",
    "freq = 30\n"
   ]
  },
  {
   "cell_type": "code",
   "execution_count": 30,
   "metadata": {
    "colab": {
     "base_uri": "https://localhost:8080/"
    },
    "executionInfo": {
     "elapsed": 11310,
     "status": "ok",
     "timestamp": 1624598862343,
     "user": {
      "displayName": "Nabil Shadman",
      "photoUrl": "https://lh3.googleusercontent.com/a-/AOh14GgjBsnEG-PznUvGpfTcNLgJBigjRZZcEChU1Oa3Eqg=s64",
      "userId": "14644475816376844585"
     },
     "user_tz": -360
    },
    "id": "EWs60My2L3xF",
    "outputId": "198aa333-60bd-4c0a-f3e8-8856b6a3eafc"
   },
   "outputs": [
    {
     "name": "stdout",
     "output_type": "stream",
     "text": [
      "Simulating...\n",
      "\n",
      "Simulated 500 of 1000  samples in chunk: 1\n",
      "Simulated 500 of 1000  samples in chunk: 6\n",
      "Simulated 1000 of 1000  samples in chunk: 6\n",
      "Simulated 1000 of 1000  samples in chunk: 1\n",
      "Simulated 500 of 1000  samples in chunk: 7\n",
      "Simulated 500 of 1000  samples in chunk: 2\n",
      "Simulated 1000 of 1000  samples in chunk: 7\n",
      "Simulated 1000 of 1000  samples in chunk: 2\n",
      "Simulated 500 of 1000  samples in chunk: 8\n",
      "Simulated 500 of 1000  samples in chunk: 3\n",
      "Simulated 1000 of 1000  samples in chunk: 8\n",
      "Simulated 1000 of 1000  samples in chunk: 3\n",
      "Simulated 500 of 1000  samples in chunk: 9\n",
      "Simulated 500 of 1000  samples in chunk: 4\n",
      "Simulated 1000 of 1000  samples in chunk: 9\n",
      "Simulated 1000 of 1000  samples in chunk: 4\n",
      "Simulated 500 of 1000  samples in chunk: 10\n",
      "Simulated 500 of 1000  samples in chunk: 5\n",
      "Simulated 1000 of 1000  samples in chunk: 10\n",
      "Simulated 1000 of 1000  samples in chunk: 5\n",
      "Pooling took 11.059087991714478 sec to run\n"
     ]
    }
   ],
   "source": [
    "# Task 7 - Initiate and track the simulation using 2 parallel processes\n",
    "start_time = time.time()\n",
    "print(\"Simulating...\\n\")\n",
    "pool = Pool(2)\n",
    "sim_df = pool.map(simulate_corr, runs, chunksize=5)\n",
    "pool.terminate()\n",
    "print(\"Pooling took\", time.time() - start_time, \"sec to run\")\n"
   ]
  },
  {
   "cell_type": "code",
   "execution_count": 31,
   "metadata": {
    "colab": {
     "base_uri": "https://localhost:8080/"
    },
    "executionInfo": {
     "elapsed": 362,
     "status": "ok",
     "timestamp": 1624598866049,
     "user": {
      "displayName": "Nabil Shadman",
      "photoUrl": "https://lh3.googleusercontent.com/a-/AOh14GgjBsnEG-PznUvGpfTcNLgJBigjRZZcEChU1Oa3Eqg=s64",
      "userId": "14644475816376844585"
     },
     "user_tz": -360
    },
    "id": "EsTueraBL3xN",
    "outputId": "cb331eeb-dff8-4eb0-9c37-8084d7154f5a"
   },
   "outputs": [
    {
     "name": "stdout",
     "output_type": "stream",
     "text": [
      "Total number of samples =  10000\n"
     ]
    }
   ],
   "source": [
    "# Task 8 - Create the final dataframe containing a time column\n",
    "concat_df = pd.concat(sim_df)\n",
    "concat_df.reset_index(drop=True, inplace=True)\n",
    "print(\"Total number of samples = \", len(concat_df))\n",
    "time_range = pd.DataFrame(pd.date_range('1/1/1700 12:00:00', periods=len(concat_df)+1,\n",
    "                                        freq='30S'), columns=['Time'])\n",
    "concat_df['Time'] = time_range['Time']\n",
    "concat_df.set_index('Time', inplace=True)\n",
    "concat_df.to_csv('simulation_final_all.csv')\n"
   ]
  },
  {
   "cell_type": "code",
   "execution_count": 32,
   "metadata": {
    "colab": {
     "base_uri": "https://localhost:8080/",
     "height": 390
    },
    "executionInfo": {
     "elapsed": 614,
     "status": "ok",
     "timestamp": 1624598869379,
     "user": {
      "displayName": "Nabil Shadman",
      "photoUrl": "https://lh3.googleusercontent.com/a-/AOh14GgjBsnEG-PznUvGpfTcNLgJBigjRZZcEChU1Oa3Eqg=s64",
      "userId": "14644475816376844585"
     },
     "user_tz": -360
    },
    "id": "qVo2FLUqr8gS",
    "outputId": "e4f04b73-7199-47d1-de03-e98020d8815c"
   },
   "outputs": [
    {
     "data": {
      "text/html": [
       "<div>\n",
       "<style scoped>\n",
       "    .dataframe tbody tr th:only-of-type {\n",
       "        vertical-align: middle;\n",
       "    }\n",
       "\n",
       "    .dataframe tbody tr th {\n",
       "        vertical-align: top;\n",
       "    }\n",
       "\n",
       "    .dataframe thead th {\n",
       "        text-align: right;\n",
       "    }\n",
       "</style>\n",
       "<table border=\"1\" class=\"dataframe\">\n",
       "  <thead>\n",
       "    <tr style=\"text-align: right;\">\n",
       "      <th></th>\n",
       "      <th>paramX1</th>\n",
       "      <th>paramX2</th>\n",
       "    </tr>\n",
       "    <tr>\n",
       "      <th>Time</th>\n",
       "      <th></th>\n",
       "      <th></th>\n",
       "    </tr>\n",
       "  </thead>\n",
       "  <tbody>\n",
       "    <tr>\n",
       "      <th>1700-01-01 12:00:00</th>\n",
       "      <td>193.258</td>\n",
       "      <td>20.479</td>\n",
       "    </tr>\n",
       "    <tr>\n",
       "      <th>1700-01-01 12:00:30</th>\n",
       "      <td>194.498</td>\n",
       "      <td>20.484</td>\n",
       "    </tr>\n",
       "    <tr>\n",
       "      <th>1700-01-01 12:01:00</th>\n",
       "      <td>194.442</td>\n",
       "      <td>20.484</td>\n",
       "    </tr>\n",
       "    <tr>\n",
       "      <th>1700-01-01 12:01:30</th>\n",
       "      <td>193.980</td>\n",
       "      <td>20.484</td>\n",
       "    </tr>\n",
       "    <tr>\n",
       "      <th>1700-01-01 12:02:00</th>\n",
       "      <td>187.533</td>\n",
       "      <td>20.490</td>\n",
       "    </tr>\n",
       "    <tr>\n",
       "      <th>1700-01-01 12:02:30</th>\n",
       "      <td>187.481</td>\n",
       "      <td>20.490</td>\n",
       "    </tr>\n",
       "    <tr>\n",
       "      <th>1700-01-01 12:03:00</th>\n",
       "      <td>195.595</td>\n",
       "      <td>20.488</td>\n",
       "    </tr>\n",
       "    <tr>\n",
       "      <th>1700-01-01 12:03:30</th>\n",
       "      <td>199.934</td>\n",
       "      <td>20.493</td>\n",
       "    </tr>\n",
       "    <tr>\n",
       "      <th>1700-01-01 12:04:00</th>\n",
       "      <td>202.044</td>\n",
       "      <td>20.491</td>\n",
       "    </tr>\n",
       "    <tr>\n",
       "      <th>1700-01-01 12:04:30</th>\n",
       "      <td>198.734</td>\n",
       "      <td>20.493</td>\n",
       "    </tr>\n",
       "  </tbody>\n",
       "</table>\n",
       "</div>"
      ],
      "text/plain": [
       "                     paramX1  paramX2\n",
       "Time                                 \n",
       "1700-01-01 12:00:00  193.258   20.479\n",
       "1700-01-01 12:00:30  194.498   20.484\n",
       "1700-01-01 12:01:00  194.442   20.484\n",
       "1700-01-01 12:01:30  193.980   20.484\n",
       "1700-01-01 12:02:00  187.533   20.490\n",
       "1700-01-01 12:02:30  187.481   20.490\n",
       "1700-01-01 12:03:00  195.595   20.488\n",
       "1700-01-01 12:03:30  199.934   20.493\n",
       "1700-01-01 12:04:00  202.044   20.491\n",
       "1700-01-01 12:04:30  198.734   20.493"
      ]
     },
     "execution_count": 32,
     "metadata": {
      "tags": []
     },
     "output_type": "execute_result"
    }
   ],
   "source": [
    "concat_df.head(10)"
   ]
  },
  {
   "cell_type": "code",
   "execution_count": null,
   "metadata": {
    "id": "0V3fRXraiTo_"
   },
   "outputs": [],
   "source": []
  }
 ],
 "metadata": {
  "accelerator": "TPU",
  "colab": {
   "collapsed_sections": [],
   "name": "parallel_code_empty.ipynb",
   "provenance": []
  },
  "kernelspec": {
   "display_name": "Python 3",
   "language": "python",
   "name": "python3"
  },
  "language_info": {
   "codemirror_mode": {
    "name": "ipython",
    "version": 3
   },
   "file_extension": ".py",
   "mimetype": "text/x-python",
   "name": "python",
   "nbconvert_exporter": "python",
   "pygments_lexer": "ipython3",
   "version": "3.8.3"
  }
 },
 "nbformat": 4,
 "nbformat_minor": 1
}
